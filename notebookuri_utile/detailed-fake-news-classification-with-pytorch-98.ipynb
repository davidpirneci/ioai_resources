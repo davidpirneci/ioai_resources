{
 "cells": [
  {
   "cell_type": "markdown",
   "metadata": {},
   "source": [
    "# Introduction\n",
    "Hello people, how its going? Today I am going to predict news whether real or fake. In order to do this I will train a deep learning model.\n",
    "\n",
    "Before starting, Let's take a look at our content\n",
    "\n",
    "# Notebook Content\n",
    "1. Importing Libraries and The Data\n",
    "1. Data Overview\n",
    "1. Data Preprocessing\n",
    "    1. Other Preprocessings\n",
    "    1. Natural Language Processing\n",
    "1. Building Model Using Pytorch\n",
    "1. Fitting Model Using Pytorch\n",
    "1. Evaulating Results\n",
    "1. What Did We Do?\n",
    "1. Conclusion"
   ]
  },
  {
   "cell_type": "markdown",
   "metadata": {},
   "source": [
    "# Importing Libraries and The Data\n",
    "\n",
    "In this section I am going to import libraries and the data that I need."
   ]
  },
  {
   "cell_type": "code",
   "execution_count": null,
   "metadata": {
    "_cell_guid": "b1076dfc-b9ad-4769-8c92-a6c4dae69d19",
    "_uuid": "8f2839f25d086af736a60e9eeb907d3b93b6e0e5"
   },
   "outputs": [],
   "source": [
    "# This Python 3 environment comes with many helpful analytics libraries installed\n",
    "# It is defined by the kaggle/python Docker image: https://github.com/kaggle/docker-python\n",
    "# For example, here's several helpful packages to load\n",
    "\n",
    "\n",
    "\"\"\"\n",
    "DATA MANIPULATİNG\n",
    "\"\"\"\n",
    "import numpy as np # linear algebra\n",
    "import pandas as pd # data processing, CSV file I/O (e.g. pd.read_csv)\n",
    "\n",
    "\"\"\"\n",
    "NATURAL LANGUAGE PROCESSING\n",
    "\"\"\"\n",
    "import re \n",
    "import nltk \n",
    "from sklearn.feature_extraction.text import CountVectorizer\n",
    "\n",
    "\"\"\"\n",
    "PYTORCH\n",
    "\"\"\"\n",
    "\n",
    "import torch\n",
    "import torch.nn as nn\n",
    "\n",
    "\n",
    "\"\"\"\n",
    "VISUALIZATION TOOLS\n",
    "\"\"\"\n",
    "\n",
    "import matplotlib.pyplot as plt\n",
    "import seaborn as sns\n",
    "\n",
    "\"\"\"\n",
    "TRAIN TEST SPLIT\n",
    "\"\"\"\n",
    "from sklearn.model_selection import train_test_split\n",
    "\n",
    "# Input data files are available in the read-only \"../input/\" directory\n",
    "# For example, running this (by clicking run or pressing Shift+Enter) will list all files under the input directory\n",
    "\n",
    "import os\n",
    "for dirname, _, filenames in os.walk('/kaggle/input'):\n",
    "    for filename in filenames:\n",
    "        print(os.path.join(dirname, filename))\n",
    "\n",
    "# You can write up to 5GB to the current directory (/kaggle/working/) that gets preserved as output when you create a version using \"Save & Run All\" \n",
    "# You can also write temporary files to /kaggle/temp/, but they won't be saved outside of the current session"
   ]
  },
  {
   "cell_type": "code",
   "execution_count": null,
   "metadata": {
    "_cell_guid": "79c7e3d0-c299-4dcb-8224-4455121ee9b0",
    "_uuid": "d629ff2d2480ee46fbb7e2d37f6b5fab8052498a"
   },
   "outputs": [],
   "source": [
    "true_data = pd.read_csv('/kaggle/input/fake-and-real-news-dataset/True.csv')\n",
    "fake_data = pd.read_csv('/kaggle/input/fake-and-real-news-dataset/Fake.csv')\n",
    "true_data.head()"
   ]
  },
  {
   "cell_type": "markdown",
   "metadata": {},
   "source": [
    "* Our data does not splitted as train and test. It splitted as true and false, so we will split them into train and test, but before this we will concatenate them."
   ]
  },
  {
   "cell_type": "code",
   "execution_count": null,
   "metadata": {},
   "outputs": [],
   "source": [
    "true_data.info()"
   ]
  },
  {
   "cell_type": "code",
   "execution_count": null,
   "metadata": {},
   "outputs": [],
   "source": [
    "fake_data.info()"
   ]
  },
  {
   "cell_type": "code",
   "execution_count": null,
   "metadata": {},
   "outputs": [],
   "source": [
    "# Adding labels \n",
    "true_data[\"label\"] = np.ones(len(true_data),dtype=int)\n",
    "fake_data[\"label\"] = np.zeros(len(fake_data),dtype=int)\n",
    "\n",
    "true_data.head()"
   ]
  },
  {
   "cell_type": "markdown",
   "metadata": {},
   "source": [
    "* And now we will concatenate and shuffle them"
   ]
  },
  {
   "cell_type": "code",
   "execution_count": null,
   "metadata": {},
   "outputs": [],
   "source": [
    "data = pd.concat((true_data,fake_data),axis=0)\n",
    "print(data.info())"
   ]
  },
  {
   "cell_type": "code",
   "execution_count": null,
   "metadata": {},
   "outputs": [],
   "source": [
    "data = data.sample(frac=1)\n",
    "data.head(10)"
   ]
  },
  {
   "cell_type": "markdown",
   "metadata": {},
   "source": [
    "* Our data is ready, let's examine it!"
   ]
  },
  {
   "cell_type": "markdown",
   "metadata": {},
   "source": [
    "# Data Overview\n",
    "\n",
    "In this section we will meet with the data. We will check these:\n",
    "\n",
    "* Is the data unbalanced?\n",
    "* How many classes in subject feature?\n",
    "\n",
    "\n",
    "## Is The Data Unbalanced?"
   ]
  },
  {
   "cell_type": "code",
   "execution_count": null,
   "metadata": {},
   "outputs": [],
   "source": [
    "sns.countplot(data[\"label\"])\n",
    "plt.show()"
   ]
  },
  {
   "cell_type": "markdown",
   "metadata": {},
   "source": [
    "* Fake news are a bit more but it does not create a problem. So, we can say that our data is balanced."
   ]
  },
  {
   "cell_type": "markdown",
   "metadata": {},
   "source": [
    "## How Many Classes In Subject Feature\n"
   ]
  },
  {
   "cell_type": "code",
   "execution_count": null,
   "metadata": {},
   "outputs": [],
   "source": [
    "data[\"subject\"].value_counts()"
   ]
  },
  {
   "cell_type": "markdown",
   "metadata": {},
   "source": [
    "* There are 8 type of subjects in the dataset.\n",
    "* Most of the dataset's label is politicsNews\n",
    "* We should encode this feature."
   ]
  },
  {
   "cell_type": "markdown",
   "metadata": {},
   "source": [
    "# Data Preprocessing\n",
    "\n",
    "In this section I will prepare the dataset for deep learning. I will follow two main steps:\n",
    "\n",
    "1. Other Preprocessings\n",
    "1. Natural Language Processing"
   ]
  },
  {
   "cell_type": "markdown",
   "metadata": {},
   "source": [
    "## Other Preprocessings\n",
    "\n",
    "In this main step, I will follow these steps:\n",
    "\n",
    "1. Subject Feature - One Hot Encoding\n",
    "1. Dropping Date"
   ]
  },
  {
   "cell_type": "code",
   "execution_count": null,
   "metadata": {},
   "outputs": [],
   "source": [
    "data = pd.get_dummies(data,columns=[\"subject\"])\n",
    "data.head()"
   ]
  },
  {
   "cell_type": "code",
   "execution_count": null,
   "metadata": {},
   "outputs": [],
   "source": [
    "data = data.drop(\"date\",axis=1)\n",
    "data.info()"
   ]
  },
  {
   "cell_type": "markdown",
   "metadata": {},
   "source": [
    "## Natural Language Processing\n",
    "Finally we came our most important step, natural language processing. In this step, I will process text and label features. I will start with the text"
   ]
  },
  {
   "cell_type": "code",
   "execution_count": null,
   "metadata": {},
   "outputs": [],
   "source": [
    "new_text = []\n",
    "pattern = \"[^a-zA-Z]\"\n",
    "lemma = nltk.WordNetLemmatizer()\n",
    "\n",
    "for txt in data.text:\n",
    "    \n",
    "    txt = re.sub(pattern,\" \",txt) # Cleaning\n",
    "    txt = txt.lower() # Lowering\n",
    "    txt = nltk.word_tokenize(txt) # Tokenizing\n",
    "    txt = [lemma.lemmatize(word) for word in txt] # Lemmatizing\n",
    "    txt = \" \".join(txt)\n",
    "    new_text.append(txt)\n",
    "    \n",
    "    \n",
    "new_text[0]\n",
    "    "
   ]
  },
  {
   "cell_type": "code",
   "execution_count": null,
   "metadata": {},
   "outputs": [],
   "source": [
    "new_title = []\n",
    "for txt in data.title:\n",
    "    \n",
    "    txt = re.sub(pattern,\" \",txt) # Cleaning\n",
    "    txt = txt.lower() # Lowering\n",
    "    txt = nltk.word_tokenize(txt) # Tokenizing\n",
    "    txt = [lemma.lemmatize(word) for word in txt] # Lemmatizing\n",
    "    txt = \" \".join(txt)\n",
    "    new_title.append(txt)\n",
    "new_title[0]\n"
   ]
  },
  {
   "cell_type": "markdown",
   "metadata": {},
   "source": [
    "* And now I am going to create sparce matrixes.\n"
   ]
  },
  {
   "cell_type": "code",
   "execution_count": null,
   "metadata": {},
   "outputs": [],
   "source": [
    "vectorizer_title = CountVectorizer(stop_words=\"english\",max_features=1000)\n",
    "vectorizer_text = CountVectorizer(stop_words=\"english\",max_features=4000)\n",
    "\n",
    "title_matrix = vectorizer_title.fit_transform(new_title).toarray() \n",
    "text_matrix = vectorizer_text.fit_transform(new_text).toarray()\n",
    "\n",
    "print(\"Finished\")"
   ]
  },
  {
   "cell_type": "markdown",
   "metadata": {},
   "source": [
    "* And now let's concatenate everything."
   ]
  },
  {
   "cell_type": "code",
   "execution_count": null,
   "metadata": {},
   "outputs": [],
   "source": [
    "data.head()"
   ]
  },
  {
   "cell_type": "code",
   "execution_count": null,
   "metadata": {},
   "outputs": [],
   "source": [
    "data.drop([\"title\",\"text\"],axis=1,inplace=True)\n",
    "data.info()"
   ]
  },
  {
   "cell_type": "code",
   "execution_count": null,
   "metadata": {},
   "outputs": [],
   "source": [
    "print(data.shape)\n",
    "print(title_matrix.shape)\n",
    "print(text_matrix.shape)"
   ]
  },
  {
   "cell_type": "code",
   "execution_count": null,
   "metadata": {},
   "outputs": [],
   "source": [
    "# Creating Y\n",
    "y = data.label\n",
    "# Creating X\n",
    "x = np.concatenate((np.array(data.drop(\"label\",axis=1)),title_matrix,text_matrix),axis=1)\n",
    "\n"
   ]
  },
  {
   "cell_type": "markdown",
   "metadata": {},
   "source": [
    "* Lets check our shapes, after that I am going to split X and Y into train and test."
   ]
  },
  {
   "cell_type": "code",
   "execution_count": null,
   "metadata": {},
   "outputs": [],
   "source": [
    "print(x.shape)\n",
    "print(y.shape)"
   ]
  },
  {
   "cell_type": "code",
   "execution_count": null,
   "metadata": {},
   "outputs": [],
   "source": [
    "from sklearn.model_selection import train_test_split\n",
    "\n",
    "# Train Test Split\n",
    "X_train,X_test,Y_train,Y_test = train_test_split(x,np.array(y),test_size=0.25,random_state=1)\n",
    "print(X_train.shape)\n",
    "print(X_test.shape)\n",
    "print(Y_train.shape)\n",
    "print(Y_test.shape)\n"
   ]
  },
  {
   "cell_type": "markdown",
   "metadata": {},
   "source": [
    "# Building Model Using Pytorch\n",
    "\n",
    "Our data is ready, now we are going to build our ANN model using pytorch. We will use ReLU as activation function, Adam as optimizer and Cross Entropy as Loss. Let's start."
   ]
  },
  {
   "cell_type": "code",
   "execution_count": null,
   "metadata": {},
   "outputs": [],
   "source": [
    "class ANN(nn.Module):\n",
    "    \n",
    "    def __init__(self):\n",
    "        \n",
    "        super(ANN,self).__init__() # Inhertiting\n",
    "        \n",
    "        self.linear1 = nn.Linear(5008,2000) # IN 5008 OUT 2000\n",
    "        self.relu1 = nn.ReLU() # Actfunc 1\n",
    "        \n",
    "        self.linear2 = nn.Linear(2000,500) # IN 2000 OUT 500\n",
    "        self.relu2 = nn.ReLU()\n",
    "        \n",
    "        self.linear3 = nn.Linear(500,100) # IN 500 OUT 100\n",
    "        self.relu3 = nn.ReLU()\n",
    "        \n",
    "        self.linear4 = nn.Linear(100,20) # IN 100 OUT 20\n",
    "        self.relu4 = nn.ReLU()\n",
    "        \n",
    "        self.linear5 = nn.Linear(20,2) # IN 20 OUT 2 | OUTPUT \n",
    "        \n",
    "    \n",
    "    def forward(self,x):\n",
    "        \n",
    "        out = self.linear1(x) # Input Layer \n",
    "        out = self.relu1(out)\n",
    "        \n",
    "        out = self.linear2(out) # Hidden Layer 1 \n",
    "        out = self.relu2(out)\n",
    "        \n",
    "        out = self.linear3(out) # Hidden Layer 2 \n",
    "        out = self.relu3(out)\n",
    "        \n",
    "        out = self.linear4(out) # Hidden Layer 3 \n",
    "        out = self.relu4(out)\n",
    "\n",
    "        \n",
    "        out = self.linear5(out) # Output Layer\n",
    "        \n",
    "        return out\n",
    "    \n",
    "\n",
    "model = ANN()\n",
    "optimizer = torch.optim.Adam(model.parameters(),lr=0.01)\n",
    "error = nn.CrossEntropyLoss()"
   ]
  },
  {
   "cell_type": "markdown",
   "metadata": {},
   "source": [
    "* Our model have built, now let's train it using our data."
   ]
  },
  {
   "cell_type": "markdown",
   "metadata": {},
   "source": [
    "# Fitting Model Using Pytorch\n",
    "\n",
    "And in this stage, I will fit the model using our prepared data. I will use a for loop in order to train."
   ]
  },
  {
   "cell_type": "code",
   "execution_count": null,
   "metadata": {},
   "outputs": [],
   "source": [
    "# Converting numpy arrays into pytorch tensors\n",
    "X_train = torch.Tensor(X_train)\n",
    "\n",
    "# You must convert it into LongTensor. I did it once\n",
    "Y_train = torch.Tensor(Y_train).type(torch.LongTensor)\n",
    "\n",
    "X_test = torch.Tensor(X_test)\n",
    "Y_test = torch.Tensor(Y_test)\n",
    "\n",
    "EPOCHS = 20\n",
    "\n",
    "for epoch in range(EPOCHS):\n",
    "    \n",
    "    # Clearing gradients\n",
    "    optimizer.zero_grad()\n",
    "    \n",
    "    # Forward Propagation\n",
    "    outs = model(X_train)\n",
    "    \n",
    "    # Computing Loss\n",
    "    loss = error(outs,Y_train)\n",
    "    \n",
    "    # Backward propagation\n",
    "    loss.backward()\n",
    "    \n",
    "    # Updating parameters\n",
    "    optimizer.step()\n",
    "    \n",
    "    # Printing loss\n",
    "    print(f\"Loss after iteration {epoch} is {loss}\")\n",
    "    \n",
    "    "
   ]
  },
  {
   "cell_type": "markdown",
   "metadata": {},
   "source": [
    "# Evaulating Results\n",
    "\n",
    "Our model have trained. Now I am going to predict X_test and after that I will evaulate the results."
   ]
  },
  {
   "cell_type": "code",
   "execution_count": null,
   "metadata": {},
   "outputs": [],
   "source": [
    "# Importing metrics\n",
    "from sklearn.metrics import accuracy_score,confusion_matrix\n",
    "\n",
    "\n",
    "# Prediction\n",
    "y_head = model(X_test)\n",
    "print(y_head[0])\n",
    "# Converting Prediction into labels\n",
    "y_pred = torch.max(y_head,1)[1]\n",
    "print(y_pred[0])\n",
    "\n",
    "# Accuracy score\n",
    "print(\"Model accuracy is \",accuracy_score(y_pred,Y_test))\n"
   ]
  },
  {
   "cell_type": "markdown",
   "metadata": {},
   "source": [
    "* Our score is %98.4. Let's check the confusion matrix"
   ]
  },
  {
   "cell_type": "code",
   "execution_count": null,
   "metadata": {},
   "outputs": [],
   "source": [
    "confusion_matrix = confusion_matrix(y_pred=y_pred,y_true=Y_test)\n",
    "\n",
    "fig,ax = plt.subplots(figsize=(6,6))\n",
    "sns.heatmap(confusion_matrix,annot=True,fmt=\"0.1f\",linewidths=1.5)\n",
    "plt.show()"
   ]
  },
  {
   "cell_type": "markdown",
   "metadata": {},
   "source": [
    "# What Did We Do?\n",
    "\n",
    "Our kernel has finished, let's check that what did we do in this kernel.\n",
    "\n",
    "1. We've imported our data and libraries\n",
    "1. We've process the data using nlp methods.\n",
    "1. We've created our sparce matrixes\n",
    "1. We've created X and Y\n",
    "1. We've created test and train arrays.\n",
    "1. We've built a 4 Layer Model using Pytorch\n",
    "1. We've trained the model that we built\n",
    "1. We've made predictions and evaulate them.\n"
   ]
  },
  {
   "cell_type": "markdown",
   "metadata": {},
   "source": [
    "# Conclusion\n",
    "Thanks for your attention, if you have any questions in your mind, or if you confused, you can ask anything to me. I am waiting for your questions.\n",
    "\n",
    "And if you like this kernel, if this kernel be useful, I am waiting for your upvotes.\n",
    "\n",
    "Greetings."
   ]
  }
 ],
 "metadata": {
  "kaggle": {
   "accelerator": "none",
   "dataSources": [
    {
     "datasetId": 572515,
     "sourceId": 1037534,
     "sourceType": "datasetVersion"
    }
   ],
   "dockerImageVersionId": 30017,
   "isGpuEnabled": false,
   "isInternetEnabled": false,
   "language": "python",
   "sourceType": "notebook"
  },
  "kernelspec": {
   "display_name": "Python 3 (ipykernel)",
   "language": "python",
   "name": "python3"
  },
  "language_info": {
   "codemirror_mode": {
    "name": "ipython",
    "version": 3
   },
   "file_extension": ".py",
   "mimetype": "text/x-python",
   "name": "python",
   "nbconvert_exporter": "python",
   "pygments_lexer": "ipython3",
   "version": "3.12.4"
  }
 },
 "nbformat": 4,
 "nbformat_minor": 4
}
